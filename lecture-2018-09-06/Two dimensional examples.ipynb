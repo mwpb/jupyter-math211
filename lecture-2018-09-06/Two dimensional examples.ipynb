{
 "cells": [
  {
   "cell_type": "code",
   "execution_count": 1,
   "metadata": {},
   "outputs": [],
   "source": [
    "import os\n",
    "import sys\n",
    "module_path = os.path.abspath(os.path.join('..'))\n",
    "if module_path not in sys.path:\n",
    "    sys.path.append(module_path)\n",
    "from pythonUtils.elimination import rref\n",
    "from pythonUtils.plottingUtils import printM, plot2DSystem\n",
    "\n",
    "%config InlineBackend.figure_format = 'svg'\n",
    "%matplotlib inline\n",
    "\n",
    "%load_ext autoreload\n",
    "%autoreload 2"
   ]
  },
  {
   "cell_type": "code",
   "execution_count": 2,
   "metadata": {},
   "outputs": [
    {
     "name": "stdout",
     "output_type": "stream",
     "text": [
      "[[ 1  2  1]\n",
      " [ 5 10 42]]\n",
      "\n",
      "\n",
      "[[ 1.  2.  1.]\n",
      " [ 5. 10. 42.]]\n",
      "\n",
      "\n",
      "[[ 1.  2.  1.]\n",
      " [ 0.  0. 37.]]\n",
      "\n",
      "\n",
      "[[1. 2. 1.]\n",
      " [0. 0. 1.]]\n",
      "\n",
      "\n",
      "[[1. 2. 1.]\n",
      " [0. 0. 1.]]\n",
      "\n",
      "\n",
      "[[1. 2. 0.]\n",
      " [0. 0. 1.]]\n",
      "\n",
      "\n"
     ]
    }
   ],
   "source": [
    "A = [\n",
    "    [1, 2, 1],\n",
    "    [5, 10, 42]\n",
    "]\n",
    "steps = rref(A)\n",
    "for i in steps:\n",
    "    printM(i)"
   ]
  },
  {
   "cell_type": "code",
   "execution_count": 3,
   "metadata": {},
   "outputs": [
    {
     "name": "stdout",
     "output_type": "stream",
     "text": [
      "[[ 3 12 18]\n",
      " [ 4 16 24]]\n",
      "\n",
      "\n",
      "[[ 1.  4.  6.]\n",
      " [ 4. 16. 24.]]\n",
      "\n",
      "\n",
      "[[1. 4. 6.]\n",
      " [0. 0. 0.]]\n",
      "\n",
      "\n",
      "[[1. 4. 6.]\n",
      " [0. 0. 0.]]\n",
      "\n",
      "\n"
     ]
    }
   ],
   "source": [
    "A = [\n",
    "    [3, 12, 18],\n",
    "    [4, 16, 24]\n",
    "]\n",
    "steps = rref(A)\n",
    "for i in steps:\n",
    "    printM(i)"
   ]
  }
 ],
 "metadata": {
  "kernelspec": {
   "display_name": "Python 3",
   "language": "python",
   "name": "python3"
  },
  "language_info": {
   "codemirror_mode": {
    "name": "ipython",
    "version": 3
   },
   "file_extension": ".py",
   "mimetype": "text/x-python",
   "name": "python",
   "nbconvert_exporter": "python",
   "pygments_lexer": "ipython3",
   "version": "3.6.5"
  }
 },
 "nbformat": 4,
 "nbformat_minor": 2
}
