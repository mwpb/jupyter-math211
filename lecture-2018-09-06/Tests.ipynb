{
 "cells": [
  {
   "cell_type": "code",
   "execution_count": 21,
   "metadata": {},
   "outputs": [],
   "source": [
    "import os\n",
    "import sys\n",
    "module_path = os.path.abspath(os.path.join('..'))\n",
    "if module_path not in sys.path:\n",
    "    sys.path.append(module_path)\n",
    "import math\n",
    "    \n",
    "from pythonUtils.elementaryOperations import swapRows, addMultiple, scalarMultiply\n",
    "from pythonUtils.plottingUtils import printM\n",
    "from pythonUtils.elimination import rref"
   ]
  },
  {
   "cell_type": "code",
   "execution_count": 22,
   "metadata": {},
   "outputs": [],
   "source": [
    "def matrixIsClose(A, B):\n",
    "    for i in range(0, len(A[0])-1):\n",
    "        for j in range(0, len(A)-1):\n",
    "            if not math.isclose (A[i][j], B[i][j]):\n",
    "                return False\n",
    "    return True"
   ]
  },
  {
   "cell_type": "code",
   "execution_count": 25,
   "metadata": {},
   "outputs": [],
   "source": [
    "def eliminationTests():\n",
    "    '''\n",
    "    >>> A = [[0,2, 1,1],[3,4, 5,0],[1, 2, 3,0]]\n",
    "    >>> p = rref(A)\n",
    "    >>> matrixIsClose(A, [[1.0, 0.0, 0.0, -0.3333333333333333], [0.0, 1.0, 0.0, 0.6666666666666666], [0.0, 0.0, 1.0, -0.3333333333333333]])\n",
    "    True\n",
    "    >>> A = [[1, 5, 7],[-2, -7, -5]]\n",
    "    >>> p = rref(A)\n",
    "    >>> matrixIsClose(A, [[ 1.,  0., -8.], [ 0.,  1.,  3.]])\n",
    "    True\n",
    "    >>> A = A = [[0, 2, 1, -8],[1, -2, -3, 0],[-1, 1, 2, 3]]\n",
    "    >>> p = rref(A)\n",
    "    >>> matrixIsClose(A, [[1.0, 0.0, 0.0, -4.0], [0.0, 1.0, 0.0, -5.0], [-0.0, -0.0, 1.0, 2.0]])\n",
    "    True\n",
    "    >>> A = A = A = [[1, -2, -6, 12],[2, 4, 12, -17],[1, -4, -12, 22]]\n",
    "    >>> p = rref(A)\n",
    "    >>> matrixIsClose(A, [[1.0, 0.0, 0.0, 1.3888888888888864], [0.0, 1.0, 3.0, -4.2361111111111045], [0.0, 0.0, 0.0, 0.16666666666666785]])\n",
    "    True\n",
    "    '''"
   ]
  },
  {
   "cell_type": "code",
   "execution_count": 26,
   "metadata": {},
   "outputs": [
    {
     "data": {
      "text/plain": [
       "TestResults(failed=0, attempted=12)"
      ]
     },
     "execution_count": 26,
     "metadata": {},
     "output_type": "execute_result"
    }
   ],
   "source": [
    "import doctest\n",
    "doctest.testmod()"
   ]
  }
 ],
 "metadata": {
  "kernelspec": {
   "display_name": "Python 3",
   "language": "python",
   "name": "python3"
  },
  "language_info": {
   "codemirror_mode": {
    "name": "ipython",
    "version": 3
   },
   "file_extension": ".py",
   "mimetype": "text/x-python",
   "name": "python",
   "nbconvert_exporter": "python",
   "pygments_lexer": "ipython3",
   "version": "3.6.5"
  }
 },
 "nbformat": 4,
 "nbformat_minor": 2
}
