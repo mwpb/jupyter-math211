{
 "cells": [
  {
   "cell_type": "code",
   "execution_count": 1,
   "metadata": {},
   "outputs": [
    {
     "data": {
      "text/html": [
       "<style>div.output_latex {overflow:hidden;} .MathJax { font-size: 7em !important; }</style>"
      ],
      "text/plain": [
       "<IPython.core.display.HTML object>"
      ]
     },
     "execution_count": 1,
     "metadata": {},
     "output_type": "execute_result"
    }
   ],
   "source": [
    "import os\n",
    "import sys\n",
    "module_path = os.path.abspath(os.path.join('..'))\n",
    "if module_path not in sys.path:\n",
    "    sys.path.append(module_path)\n",
    "\n",
    "from pythonUtils.elimination import rref\n",
    "from pythonUtils.plottingUtils import printM, plot2DSystem\n",
    "\n",
    "%config InlineBackend.figure_format = 'svg'\n",
    "%matplotlib inline\n",
    "%precision 3\n",
    "\n",
    "%load_ext autoreload\n",
    "%autoreload 2\n",
    "\n",
    "from IPython.display import HTML\n",
    "HTML(\"\"\"<style>div.output_latex {overflow:hidden;} .MathJax { font-size: 7em !important; }</style>\"\"\")"
   ]
  },
  {
   "cell_type": "markdown",
   "metadata": {},
   "source": [
    "## Infinitely many solutions"
   ]
  },
  {
   "cell_type": "code",
   "execution_count": 2,
   "metadata": {},
   "outputs": [
    {
     "data": {
      "text/latex": [
       "${\\left[\\begin{matrix}1 & 2 & 3 & 4\\\\5 & 6 & 7 & 8\\\\9 & 10 & 11 & 12\\end{matrix}\\right]}$"
      ],
      "text/plain": [
       "<IPython.core.display.Latex object>"
      ]
     },
     "metadata": {},
     "output_type": "display_data"
    },
    {
     "name": "stdout",
     "output_type": "stream",
     "text": [
      "\n",
      "\n"
     ]
    },
    {
     "data": {
      "text/latex": [
       "${\\left[\\begin{matrix}1 & 2 & 3 & 4\\\\5 & 6 & 7 & 8\\\\9 & 10 & 11 & 12\\end{matrix}\\right]}$"
      ],
      "text/plain": [
       "<IPython.core.display.Latex object>"
      ]
     },
     "metadata": {},
     "output_type": "display_data"
    },
    {
     "name": "stdout",
     "output_type": "stream",
     "text": [
      "\n",
      "\n"
     ]
    },
    {
     "data": {
      "text/latex": [
       "${\\left[\\begin{matrix}1 & 2 & 3 & 4\\\\0 & -4 & -8 & -12\\\\0 & -8 & -16 & -24\\end{matrix}\\right]}$"
      ],
      "text/plain": [
       "<IPython.core.display.Latex object>"
      ]
     },
     "metadata": {},
     "output_type": "display_data"
    },
    {
     "name": "stdout",
     "output_type": "stream",
     "text": [
      "\n",
      "\n"
     ]
    },
    {
     "data": {
      "text/latex": [
       "${\\left[\\begin{matrix}1 & 2 & 3 & 4\\\\0 & 1 & 2 & 3\\\\0 & -8 & -16 & -24\\end{matrix}\\right]}$"
      ],
      "text/plain": [
       "<IPython.core.display.Latex object>"
      ]
     },
     "metadata": {},
     "output_type": "display_data"
    },
    {
     "name": "stdout",
     "output_type": "stream",
     "text": [
      "\n",
      "\n"
     ]
    },
    {
     "data": {
      "text/latex": [
       "${\\left[\\begin{matrix}1 & 2 & 3 & 4\\\\0 & 1 & 2 & 3\\\\0 & 0 & 0 & 0\\end{matrix}\\right]}$"
      ],
      "text/plain": [
       "<IPython.core.display.Latex object>"
      ]
     },
     "metadata": {},
     "output_type": "display_data"
    },
    {
     "name": "stdout",
     "output_type": "stream",
     "text": [
      "\n",
      "\n"
     ]
    },
    {
     "data": {
      "text/latex": [
       "${\\left[\\begin{matrix}1 & 0 & -1 & -2\\\\0 & 1 & 2 & 3\\\\0 & 0 & 0 & 0\\end{matrix}\\right]}$"
      ],
      "text/plain": [
       "<IPython.core.display.Latex object>"
      ]
     },
     "metadata": {},
     "output_type": "display_data"
    },
    {
     "name": "stdout",
     "output_type": "stream",
     "text": [
      "\n",
      "\n"
     ]
    }
   ],
   "source": [
    "A = [\n",
    "    [1, 2, 3, 4],\n",
    "    [5, 6, 7, 8],\n",
    "    [9, 10 , 11, 12]\n",
    "]\n",
    "\n",
    "steps = rref(A)\n",
    "for i in steps:\n",
    "    (printM(i))"
   ]
  },
  {
   "cell_type": "code",
   "execution_count": 4,
   "metadata": {},
   "outputs": [
    {
     "data": {
      "text/latex": [
       "${\\left[\\begin{matrix}6 & 4 & 2 & 4\\\\3 & 2 & 1 & 2\\\\9 & 6 & 3 & 6\\end{matrix}\\right]}$"
      ],
      "text/plain": [
       "<IPython.core.display.Latex object>"
      ]
     },
     "metadata": {},
     "output_type": "display_data"
    },
    {
     "name": "stdout",
     "output_type": "stream",
     "text": [
      "\n",
      "\n"
     ]
    },
    {
     "data": {
      "text/latex": [
       "${\\left[\\begin{matrix}1 & 0.6667 & 0.3333 & 0.6667\\\\3 & 2 & 1 & 2\\\\9 & 6 & 3 & 6\\end{matrix}\\right]}$"
      ],
      "text/plain": [
       "<IPython.core.display.Latex object>"
      ]
     },
     "metadata": {},
     "output_type": "display_data"
    },
    {
     "name": "stdout",
     "output_type": "stream",
     "text": [
      "\n",
      "\n"
     ]
    },
    {
     "data": {
      "text/latex": [
       "${\\left[\\begin{matrix}1 & 0.6667 & 0.3333 & 0.6667\\\\0 & 0 & 0 & 0\\\\0 & 0 & 0 & 0\\end{matrix}\\right]}$"
      ],
      "text/plain": [
       "<IPython.core.display.Latex object>"
      ]
     },
     "metadata": {},
     "output_type": "display_data"
    },
    {
     "name": "stdout",
     "output_type": "stream",
     "text": [
      "\n",
      "\n"
     ]
    },
    {
     "data": {
      "text/latex": [
       "${\\left[\\begin{matrix}1 & 0.6667 & 0.3333 & 0.6667\\\\0 & 0 & 0 & 0\\\\0 & 0 & 0 & 0\\end{matrix}\\right]}$"
      ],
      "text/plain": [
       "<IPython.core.display.Latex object>"
      ]
     },
     "metadata": {},
     "output_type": "display_data"
    },
    {
     "name": "stdout",
     "output_type": "stream",
     "text": [
      "\n",
      "\n"
     ]
    }
   ],
   "source": [
    "A = [\n",
    "    [6, 4, 2, 4],\n",
    "    [3, 2, 1, 2],\n",
    "    [9, 6 , 3, 6]\n",
    "]\n",
    "\n",
    "steps = rref(A)\n",
    "for i in steps:\n",
    "    printM(i)"
   ]
  },
  {
   "cell_type": "markdown",
   "metadata": {},
   "source": [
    "## Unique solution"
   ]
  },
  {
   "cell_type": "code",
   "execution_count": 5,
   "metadata": {},
   "outputs": [
    {
     "data": {
      "text/latex": [
       "${\\left[\\begin{matrix}1 & 1 & 2 & -1\\\\2 & 1 & 3 & 0\\\\0 & -2 & 1 & 2\\end{matrix}\\right]}$"
      ],
      "text/plain": [
       "<IPython.core.display.Latex object>"
      ]
     },
     "metadata": {},
     "output_type": "display_data"
    },
    {
     "name": "stdout",
     "output_type": "stream",
     "text": [
      "\n",
      "\n"
     ]
    },
    {
     "data": {
      "text/latex": [
       "${\\left[\\begin{matrix}1 & 1 & 2 & -1\\\\2 & 1 & 3 & 0\\\\0 & -2 & 1 & 2\\end{matrix}\\right]}$"
      ],
      "text/plain": [
       "<IPython.core.display.Latex object>"
      ]
     },
     "metadata": {},
     "output_type": "display_data"
    },
    {
     "name": "stdout",
     "output_type": "stream",
     "text": [
      "\n",
      "\n"
     ]
    },
    {
     "data": {
      "text/latex": [
       "${\\left[\\begin{matrix}1 & 1 & 2 & -1\\\\0 & -1 & -1 & 2\\\\0 & -2 & 1 & 2\\end{matrix}\\right]}$"
      ],
      "text/plain": [
       "<IPython.core.display.Latex object>"
      ]
     },
     "metadata": {},
     "output_type": "display_data"
    },
    {
     "name": "stdout",
     "output_type": "stream",
     "text": [
      "\n",
      "\n"
     ]
    },
    {
     "data": {
      "text/latex": [
       "${\\left[\\begin{matrix}1 & 1 & 2 & -1\\\\0 & 1 & 1 & -2\\\\0 & -2 & 1 & 2\\end{matrix}\\right]}$"
      ],
      "text/plain": [
       "<IPython.core.display.Latex object>"
      ]
     },
     "metadata": {},
     "output_type": "display_data"
    },
    {
     "name": "stdout",
     "output_type": "stream",
     "text": [
      "\n",
      "\n"
     ]
    },
    {
     "data": {
      "text/latex": [
       "${\\left[\\begin{matrix}1 & 1 & 2 & -1\\\\0 & 1 & 1 & -2\\\\0 & 0 & 3 & -2\\end{matrix}\\right]}$"
      ],
      "text/plain": [
       "<IPython.core.display.Latex object>"
      ]
     },
     "metadata": {},
     "output_type": "display_data"
    },
    {
     "name": "stdout",
     "output_type": "stream",
     "text": [
      "\n",
      "\n"
     ]
    },
    {
     "data": {
      "text/latex": [
       "${\\left[\\begin{matrix}1 & 1 & 2 & -1\\\\0 & 1 & 1 & -2\\\\0 & 0 & 1 & -0.6667\\end{matrix}\\right]}$"
      ],
      "text/plain": [
       "<IPython.core.display.Latex object>"
      ]
     },
     "metadata": {},
     "output_type": "display_data"
    },
    {
     "name": "stdout",
     "output_type": "stream",
     "text": [
      "\n",
      "\n"
     ]
    },
    {
     "data": {
      "text/latex": [
       "${\\left[\\begin{matrix}1 & 1 & 2 & -1\\\\0 & 1 & 1 & -2\\\\0 & 0 & 1 & -0.6667\\end{matrix}\\right]}$"
      ],
      "text/plain": [
       "<IPython.core.display.Latex object>"
      ]
     },
     "metadata": {},
     "output_type": "display_data"
    },
    {
     "name": "stdout",
     "output_type": "stream",
     "text": [
      "\n",
      "\n"
     ]
    },
    {
     "data": {
      "text/latex": [
       "${\\left[\\begin{matrix}1 & 0 & 0 & 1.6667\\\\0 & 1 & 0 & -1.3333\\\\0 & 0 & 1 & -0.6667\\end{matrix}\\right]}$"
      ],
      "text/plain": [
       "<IPython.core.display.Latex object>"
      ]
     },
     "metadata": {},
     "output_type": "display_data"
    },
    {
     "name": "stdout",
     "output_type": "stream",
     "text": [
      "\n",
      "\n"
     ]
    }
   ],
   "source": [
    "A = [\n",
    "    [1, 1, 2, -1],\n",
    "    [2, 1, 3, 0],\n",
    "    [0, -2, 1, 2]\n",
    "]\n",
    "\n",
    "steps = rref(A)\n",
    "for i in steps:\n",
    "    printM(i)"
   ]
  },
  {
   "cell_type": "markdown",
   "metadata": {},
   "source": [
    "## Inconsistent equations"
   ]
  },
  {
   "cell_type": "code",
   "execution_count": 6,
   "metadata": {},
   "outputs": [
    {
     "data": {
      "text/latex": [
       "${\\left[\\begin{matrix}1 & 2 & 3 & 4\\\\5 & 6 & 7 & 8\\\\3 & 4 & 5 & 5\\end{matrix}\\right]}$"
      ],
      "text/plain": [
       "<IPython.core.display.Latex object>"
      ]
     },
     "metadata": {},
     "output_type": "display_data"
    },
    {
     "name": "stdout",
     "output_type": "stream",
     "text": [
      "\n",
      "\n"
     ]
    },
    {
     "data": {
      "text/latex": [
       "${\\left[\\begin{matrix}1.0 & 2.0 & 3.0 & 4.0\\\\5 & 6 & 7 & 8\\\\3 & 4 & 5 & 5\\end{matrix}\\right]}$"
      ],
      "text/plain": [
       "<IPython.core.display.Latex object>"
      ]
     },
     "metadata": {},
     "output_type": "display_data"
    },
    {
     "name": "stdout",
     "output_type": "stream",
     "text": [
      "\n",
      "\n"
     ]
    },
    {
     "data": {
      "text/latex": [
       "${\\left[\\begin{matrix}1.0 & 2.0 & 3.0 & 4.0\\\\0.0 & -4.0 & -8.0 & -12.0\\\\0.0 & -2.0 & -4.0 & -7.0\\end{matrix}\\right]}$"
      ],
      "text/plain": [
       "<IPython.core.display.Latex object>"
      ]
     },
     "metadata": {},
     "output_type": "display_data"
    },
    {
     "name": "stdout",
     "output_type": "stream",
     "text": [
      "\n",
      "\n"
     ]
    },
    {
     "data": {
      "text/latex": [
       "${\\left[\\begin{matrix}1.0 & 2.0 & 3.0 & 4.0\\\\0.0 & 1.0 & 2.0 & 3.0\\\\0.0 & -2.0 & -4.0 & -7.0\\end{matrix}\\right]}$"
      ],
      "text/plain": [
       "<IPython.core.display.Latex object>"
      ]
     },
     "metadata": {},
     "output_type": "display_data"
    },
    {
     "name": "stdout",
     "output_type": "stream",
     "text": [
      "\n",
      "\n"
     ]
    },
    {
     "data": {
      "text/latex": [
       "${\\left[\\begin{matrix}1.0 & 2.0 & 3.0 & 4.0\\\\0.0 & 1.0 & 2.0 & 3.0\\\\0.0 & 0.0 & 0.0 & -1.0\\end{matrix}\\right]}$"
      ],
      "text/plain": [
       "<IPython.core.display.Latex object>"
      ]
     },
     "metadata": {},
     "output_type": "display_data"
    },
    {
     "name": "stdout",
     "output_type": "stream",
     "text": [
      "\n",
      "\n"
     ]
    },
    {
     "data": {
      "text/latex": [
       "${\\left[\\begin{matrix}1.0 & 2.0 & 3.0 & 4.0\\\\0.0 & 1.0 & 2.0 & 3.0\\\\0.0 & 0.0 & 0.0 & 1.0\\end{matrix}\\right]}$"
      ],
      "text/plain": [
       "<IPython.core.display.Latex object>"
      ]
     },
     "metadata": {},
     "output_type": "display_data"
    },
    {
     "name": "stdout",
     "output_type": "stream",
     "text": [
      "\n",
      "\n"
     ]
    },
    {
     "data": {
      "text/latex": [
       "${\\left[\\begin{matrix}1.0 & 2.0 & 3.0 & 4.0\\\\0.0 & 1.0 & 2.0 & 3.0\\\\0.0 & 0.0 & 0.0 & 1.0\\end{matrix}\\right]}$"
      ],
      "text/plain": [
       "<IPython.core.display.Latex object>"
      ]
     },
     "metadata": {},
     "output_type": "display_data"
    },
    {
     "name": "stdout",
     "output_type": "stream",
     "text": [
      "\n",
      "\n"
     ]
    },
    {
     "data": {
      "text/latex": [
       "${\\left[\\begin{matrix}1.0 & 0.0 & -1.0 & 0.0\\\\0.0 & 1.0 & 2.0 & 0.0\\\\0.0 & 0.0 & 0.0 & 1.0\\end{matrix}\\right]}$"
      ],
      "text/plain": [
       "<IPython.core.display.Latex object>"
      ]
     },
     "metadata": {},
     "output_type": "display_data"
    },
    {
     "name": "stdout",
     "output_type": "stream",
     "text": [
      "\n",
      "\n"
     ]
    }
   ],
   "source": [
    "A = [\n",
    "    [1, 2, 3, 4],\n",
    "    [5, 6, 7, 8],\n",
    "    [3, 4 , 5, 5]\n",
    "]\n",
    "\n",
    "steps = rref(A)\n",
    "for i in steps:\n",
    "    printM(i)"
   ]
  }
 ],
 "metadata": {
  "kernelspec": {
   "display_name": "Python 3",
   "language": "python",
   "name": "python3"
  },
  "language_info": {
   "codemirror_mode": {
    "name": "ipython",
    "version": 3
   },
   "file_extension": ".py",
   "mimetype": "text/x-python",
   "name": "python",
   "nbconvert_exporter": "python",
   "pygments_lexer": "ipython3",
   "version": "3.6.5"
  }
 },
 "nbformat": 4,
 "nbformat_minor": 2
}
