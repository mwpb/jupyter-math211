{
 "cells": [
  {
   "cell_type": "code",
   "execution_count": 2,
   "metadata": {},
   "outputs": [
    {
     "name": "stdout",
     "output_type": "stream",
     "text": [
      "The autoreload extension is already loaded. To reload it, use:\n",
      "  %reload_ext autoreload\n"
     ]
    },
    {
     "data": {
      "text/html": [
       "<style>div.output_latex {overflow:hidden;} .MathJax { font-size: 7em !important; } .container { width:100% !important; }</style>"
      ],
      "text/plain": [
       "<IPython.core.display.HTML object>"
      ]
     },
     "execution_count": 2,
     "metadata": {},
     "output_type": "execute_result"
    }
   ],
   "source": [
    "import os\n",
    "import sys\n",
    "import numpy as np\n",
    "module_path = os.path.abspath(os.path.join('..'))\n",
    "if module_path not in sys.path:\n",
    "    sys.path.append(module_path)\n",
    "\n",
    "from pythonUtils.elimination import rref\n",
    "from pythonUtils.plottingUtils import printM, plot2DSystem\n",
    "\n",
    "%config InlineBackend.figure_format = 'svg'\n",
    "%matplotlib inline\n",
    "%precision 3\n",
    "\n",
    "%load_ext autoreload\n",
    "%autoreload 2\n",
    "\n",
    "from IPython.display import HTML\n",
    "HTML(\"\"\"<style>div.output_latex {overflow:hidden;} .MathJax { font-size: 7em !important; } .container { width:100% !important; }</style>\"\"\")"
   ]
  },
  {
   "cell_type": "code",
   "execution_count": 8,
   "metadata": {},
   "outputs": [
    {
     "data": {
      "text/latex": [
       "${\\left[\\begin{matrix}17\\\\38\\end{matrix}\\right]}$"
      ],
      "text/plain": [
       "<IPython.core.display.Latex object>"
      ]
     },
     "metadata": {},
     "output_type": "display_data"
    },
    {
     "name": "stdout",
     "output_type": "stream",
     "text": [
      "\n",
      "\n"
     ]
    }
   ],
   "source": [
    "B = [\n",
    "    [1, 2],\n",
    "    [4, 3]\n",
    "]\n",
    "\n",
    "A = [\n",
    "    [5],\n",
    "    [6]\n",
    "]\n",
    "\n",
    "printM(np.matmul(B, A))"
   ]
  },
  {
   "cell_type": "code",
   "execution_count": null,
   "metadata": {},
   "outputs": [],
   "source": [
    "B = [\n",
    "    [1, 2, 8],\n",
    "    [4, 3, -1]\n",
    "]\n",
    "\n",
    "A = [\n",
    "    [5],\n",
    "    [6],\n",
    "    [2]\n",
    "]\n",
    "\n",
    "printM(np.matmul(B, A))"
   ]
  },
  {
   "cell_type": "code",
   "execution_count": 7,
   "metadata": {},
   "outputs": [
    {
     "data": {
      "text/latex": [
       "${\\left[\\begin{matrix}1 & 0 & 0 & 1 & 0.1429\\\\0 & 1 & 0 & 1 & -0.7143\\\\0 & 0 & 1 & -1 & 0.4286\\end{matrix}\\right]}$"
      ],
      "text/plain": [
       "<IPython.core.display.Latex object>"
      ]
     },
     "metadata": {},
     "output_type": "display_data"
    },
    {
     "name": "stdout",
     "output_type": "stream",
     "text": [
      "\n",
      "\n"
     ]
    }
   ],
   "source": [
    "A = [\n",
    "    [1, 0, 2, -1, 1],\n",
    "    [2, -1, 0, 1, 1],\n",
    "    [3, 1, 3, 1, 1]\n",
    "]\n",
    "\n",
    "steps = rref(A)\n",
    "printM(steps[len(steps)-1])"
   ]
  },
  {
   "cell_type": "code",
   "execution_count": 4,
   "metadata": {},
   "outputs": [
    {
     "data": {
      "text/latex": [
       "${\\left[\\begin{matrix}4 & -1 & -2\\\\-1 & 0 & 8\\end{matrix}\\right]}$"
      ],
      "text/plain": [
       "<IPython.core.display.Latex object>"
      ]
     },
     "metadata": {},
     "output_type": "display_data"
    },
    {
     "name": "stdout",
     "output_type": "stream",
     "text": [
      "\n",
      "\n"
     ]
    }
   ],
   "source": [
    "A = [\n",
    "    [-1, 1, 2],\n",
    "    [0, -2, 4],\n",
    "    [1, 0, 0]\n",
    "]\n",
    "\n",
    "B = [\n",
    "    [-1, 0, 3],\n",
    "    [2, 1, 1]\n",
    "]\n",
    "\n",
    "printM(np.matmul(B, A))"
   ]
  }
 ],
 "metadata": {
  "kernelspec": {
   "display_name": "Python 3",
   "language": "python",
   "name": "python3"
  },
  "language_info": {
   "codemirror_mode": {
    "name": "ipython",
    "version": 3
   },
   "file_extension": ".py",
   "mimetype": "text/x-python",
   "name": "python",
   "nbconvert_exporter": "python",
   "pygments_lexer": "ipython3",
   "version": "3.6.5"
  }
 },
 "nbformat": 4,
 "nbformat_minor": 2
}
