{
 "cells": [
  {
   "cell_type": "code",
   "execution_count": 1,
   "metadata": {},
   "outputs": [],
   "source": [
    "from elimination import rref\n",
    "from plottingUtils import printM, plot2DSystem\n",
    "\n",
    "%config InlineBackend.figure_format = 'svg'\n",
    "%matplotlib inline\n",
    "\n",
    "%load_ext autoreload\n",
    "%autoreload 2"
   ]
  },
  {
   "cell_type": "markdown",
   "metadata": {},
   "source": [
    "## Infinitely many solutions"
   ]
  },
  {
   "cell_type": "code",
   "execution_count": 5,
   "metadata": {},
   "outputs": [
    {
     "name": "stdout",
     "output_type": "stream",
     "text": [
      "[[ 1  2  3  4]\n",
      " [ 5  6  7  8]\n",
      " [ 9 10 11 12]]\n",
      "\n",
      "\n",
      "[[ 1.  2.  3.  4.]\n",
      " [ 5.  6.  7.  8.]\n",
      " [ 9. 10. 11. 12.]]\n",
      "\n",
      "\n",
      "[[  1.   2.   3.   4.]\n",
      " [  0.  -4.  -8. -12.]\n",
      " [  0.  -8. -16. -24.]]\n",
      "\n",
      "\n",
      "[[  1.   2.   3.   4.]\n",
      " [ -0.   1.   2.   3.]\n",
      " [  0.  -8. -16. -24.]]\n",
      "\n",
      "\n",
      "[[ 1.  2.  3.  4.]\n",
      " [-0.  1.  2.  3.]\n",
      " [ 0.  0.  0.  0.]]\n",
      "\n",
      "\n",
      "[[ 1.  0. -1. -2.]\n",
      " [-0.  1.  2.  3.]\n",
      " [ 0.  0.  0.  0.]]\n",
      "\n",
      "\n"
     ]
    }
   ],
   "source": [
    "A = [\n",
    "    [1, 2, 3, 4],\n",
    "    [5, 6, 7, 8],\n",
    "    [9, 10 , 11, 12]\n",
    "]\n",
    "\n",
    "steps = rref(A)\n",
    "for i in steps:\n",
    "    printM(i)"
   ]
  },
  {
   "cell_type": "code",
   "execution_count": 16,
   "metadata": {},
   "outputs": [
    {
     "name": "stdout",
     "output_type": "stream",
     "text": [
      "[[6 4 2 4]\n",
      " [3 2 1 2]\n",
      " [9 6 3 6]]\n",
      "\n",
      "\n",
      "[[1.         0.66666667 0.33333333 0.66666667]\n",
      " [3.         2.         1.         2.        ]\n",
      " [9.         6.         3.         6.        ]]\n",
      "\n",
      "\n",
      "[[1.         0.66666667 0.33333333 0.66666667]\n",
      " [0.         0.         0.         0.        ]\n",
      " [0.         0.         0.         0.        ]]\n",
      "\n",
      "\n",
      "[[1.         0.66666667 0.33333333 0.66666667]\n",
      " [0.         0.         0.         0.        ]\n",
      " [0.         0.         0.         0.        ]]\n",
      "\n",
      "\n"
     ]
    }
   ],
   "source": [
    "A = [\n",
    "    [6, 4, 2, 4],\n",
    "    [3, 2, 1, 2],\n",
    "    [9, 6 , 3, 6]\n",
    "]\n",
    "\n",
    "steps = rref(A)\n",
    "for i in steps:\n",
    "    printM(i)"
   ]
  },
  {
   "cell_type": "markdown",
   "metadata": {},
   "source": [
    "## Unique solution"
   ]
  },
  {
   "cell_type": "code",
   "execution_count": 9,
   "metadata": {},
   "outputs": [
    {
     "name": "stdout",
     "output_type": "stream",
     "text": [
      "[[ 1  1  2 -1]\n",
      " [ 2  1  3  0]\n",
      " [ 0 -2  1  2]]\n",
      "\n",
      "\n",
      "[[ 1.  1.  2. -1.]\n",
      " [ 2.  1.  3.  0.]\n",
      " [ 0. -2.  1.  2.]]\n",
      "\n",
      "\n",
      "[[ 1.  1.  2. -1.]\n",
      " [ 0. -1. -1.  2.]\n",
      " [ 0. -2.  1.  2.]]\n",
      "\n",
      "\n",
      "[[ 1.  1.  2. -1.]\n",
      " [-0.  1.  1. -2.]\n",
      " [ 0. -2.  1.  2.]]\n",
      "\n",
      "\n",
      "[[ 1.  1.  2. -1.]\n",
      " [-0.  1.  1. -2.]\n",
      " [ 0.  0.  3. -2.]]\n",
      "\n",
      "\n",
      "[[ 1.          1.          2.         -1.        ]\n",
      " [-0.          1.          1.         -2.        ]\n",
      " [ 0.          0.          1.         -0.66666667]]\n",
      "\n",
      "\n",
      "[[ 1.          1.          2.         -1.        ]\n",
      " [-0.          1.          1.         -2.        ]\n",
      " [ 0.          0.          1.         -0.66666667]]\n",
      "\n",
      "\n",
      "[[ 1.          0.          0.          1.66666667]\n",
      " [-0.          1.          0.         -1.33333333]\n",
      " [ 0.          0.          1.         -0.66666667]]\n",
      "\n",
      "\n"
     ]
    }
   ],
   "source": [
    "A = [\n",
    "    [1, 1, 2, -1],\n",
    "    [2, 1, 3, 0],\n",
    "    [0, -2, 1, 2]\n",
    "]\n",
    "\n",
    "steps = rref(A)\n",
    "for i in steps:\n",
    "    printM(i)"
   ]
  },
  {
   "cell_type": "markdown",
   "metadata": {},
   "source": [
    "## Inconsistent equations"
   ]
  },
  {
   "cell_type": "code",
   "execution_count": 11,
   "metadata": {},
   "outputs": [
    {
     "name": "stdout",
     "output_type": "stream",
     "text": [
      "[[1 2 3 4]\n",
      " [5 6 7 8]\n",
      " [3 4 5 5]]\n",
      "\n",
      "\n",
      "[[1. 2. 3. 4.]\n",
      " [5. 6. 7. 8.]\n",
      " [3. 4. 5. 5.]]\n",
      "\n",
      "\n",
      "[[  1.   2.   3.   4.]\n",
      " [  0.  -4.  -8. -12.]\n",
      " [  0.  -2.  -4.  -7.]]\n",
      "\n",
      "\n",
      "[[ 1.  2.  3.  4.]\n",
      " [-0.  1.  2.  3.]\n",
      " [ 0. -2. -4. -7.]]\n",
      "\n",
      "\n",
      "[[ 1.  2.  3.  4.]\n",
      " [-0.  1.  2.  3.]\n",
      " [ 0.  0.  0. -1.]]\n",
      "\n",
      "\n",
      "[[ 1.  2.  3.  4.]\n",
      " [-0.  1.  2.  3.]\n",
      " [-0. -0. -0.  1.]]\n",
      "\n",
      "\n",
      "[[ 1.  2.  3.  4.]\n",
      " [-0.  1.  2.  3.]\n",
      " [-0. -0. -0.  1.]]\n",
      "\n",
      "\n",
      "[[ 1.  0. -1.  0.]\n",
      " [ 0.  1.  2.  0.]\n",
      " [-0. -0. -0.  1.]]\n",
      "\n",
      "\n"
     ]
    }
   ],
   "source": [
    "A = [\n",
    "    [1, 2, 3, 4],\n",
    "    [5, 6, 7, 8],\n",
    "    [3, 4 , 5, 5]\n",
    "]\n",
    "\n",
    "steps = rref(A)\n",
    "for i in steps:\n",
    "    printM(i)"
   ]
  }
 ],
 "metadata": {
  "kernelspec": {
   "display_name": "Python 3",
   "language": "python",
   "name": "python3"
  },
  "language_info": {
   "codemirror_mode": {
    "name": "ipython",
    "version": 3
   },
   "file_extension": ".py",
   "mimetype": "text/x-python",
   "name": "python",
   "nbconvert_exporter": "python",
   "pygments_lexer": "ipython3",
   "version": "3.6.5"
  }
 },
 "nbformat": 4,
 "nbformat_minor": 2
}
