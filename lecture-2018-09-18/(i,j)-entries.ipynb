{
 "cells": [
  {
   "cell_type": "code",
   "execution_count": 1,
   "metadata": {},
   "outputs": [
    {
     "data": {
      "text/html": [
       "<style>div.output_latex {overflow:hidden;} .MathJax { font-size: 7em !important; } .container { width:100% !important; }</style>"
      ],
      "text/plain": [
       "<IPython.core.display.HTML object>"
      ]
     },
     "execution_count": 1,
     "metadata": {},
     "output_type": "execute_result"
    }
   ],
   "source": [
    "import os\n",
    "import sys\n",
    "import numpy as np\n",
    "module_path = os.path.abspath(os.path.join('..'))\n",
    "if module_path not in sys.path:\n",
    "    sys.path.append(module_path)\n",
    "\n",
    "from pythonUtils.elimination import rref\n",
    "from pythonUtils.plottingUtils import printM, plot2DSystem\n",
    "\n",
    "%config InlineBackend.figure_format = 'svg'\n",
    "%matplotlib inline\n",
    "%precision 3\n",
    "\n",
    "%load_ext autoreload\n",
    "%autoreload 2\n",
    "\n",
    "from IPython.display import HTML\n",
    "HTML(\"\"\"<style>div.output_latex {overflow:hidden;} .MathJax { font-size: 7em !important; } .container { width:100% !important; }</style>\"\"\")"
   ]
  },
  {
   "cell_type": "code",
   "execution_count": 3,
   "metadata": {},
   "outputs": [
    {
     "data": {
      "text/latex": [
       "${\\left[\\begin{matrix}-1 & 0 & 3\\\\2 & -1 & 1\\end{matrix}\\right]}$"
      ],
      "text/plain": [
       "<IPython.core.display.Latex object>"
      ]
     },
     "metadata": {},
     "output_type": "display_data"
    },
    {
     "name": "stdout",
     "output_type": "stream",
     "text": [
      "\n",
      "\n"
     ]
    },
    {
     "data": {
      "text/latex": [
       "${\\left[\\begin{matrix}-1 & 1 & 2\\\\0 & -2 & 4\\\\1 & 0 & 0\\end{matrix}\\right]}$"
      ],
      "text/plain": [
       "<IPython.core.display.Latex object>"
      ]
     },
     "metadata": {},
     "output_type": "display_data"
    },
    {
     "name": "stdout",
     "output_type": "stream",
     "text": [
      "\n",
      "\n"
     ]
    },
    {
     "data": {
      "text/latex": [
       "${\\left[\\begin{matrix}4 & -1 & -2\\\\-1 & 4 & 0\\end{matrix}\\right]}$"
      ],
      "text/plain": [
       "<IPython.core.display.Latex object>"
      ]
     },
     "metadata": {},
     "output_type": "display_data"
    },
    {
     "name": "stdout",
     "output_type": "stream",
     "text": [
      "\n",
      "\n"
     ]
    }
   ],
   "source": [
    "B = [\n",
    "    [-1, 0, 3],\n",
    "    [2, -1, 1]\n",
    "]\n",
    "\n",
    "A = [\n",
    "    [-1, 1, 2],\n",
    "    [0, -2, 4],\n",
    "    [1, 0, 0]\n",
    "]\n",
    "\n",
    "printM(B)\n",
    "printM(A)\n",
    "printM(np.matmul(B, A))"
   ]
  },
  {
   "cell_type": "code",
   "execution_count": 4,
   "metadata": {},
   "outputs": [
    {
     "data": {
      "text/latex": [
       "${\\left[\\begin{matrix}-1 & 0 & 3\\\\0 & 0 & 1\\\\5 & 4 & 9\\end{matrix}\\right]}$"
      ],
      "text/plain": [
       "<IPython.core.display.Latex object>"
      ]
     },
     "metadata": {},
     "output_type": "display_data"
    },
    {
     "name": "stdout",
     "output_type": "stream",
     "text": [
      "\n",
      "\n"
     ]
    },
    {
     "data": {
      "text/latex": [
       "${\\left[\\begin{matrix}12 & 1 & 2\\\\4 & 0 & 4\\\\-2 & 0 & 0\\end{matrix}\\right]}$"
      ],
      "text/plain": [
       "<IPython.core.display.Latex object>"
      ]
     },
     "metadata": {},
     "output_type": "display_data"
    },
    {
     "name": "stdout",
     "output_type": "stream",
     "text": [
      "\n",
      "\n"
     ]
    },
    {
     "data": {
      "text/latex": [
       "${\\left[\\begin{matrix}-18 & -1 & -2\\\\-2 & 0 & 0\\\\58 & 5 & 26\\end{matrix}\\right]}$"
      ],
      "text/plain": [
       "<IPython.core.display.Latex object>"
      ]
     },
     "metadata": {},
     "output_type": "display_data"
    },
    {
     "name": "stdout",
     "output_type": "stream",
     "text": [
      "\n",
      "\n"
     ]
    }
   ],
   "source": [
    "B = [\n",
    "    [-1, 0, 3],\n",
    "    [0, 0, 1],\n",
    "    [5, 4, 9]\n",
    "]\n",
    "\n",
    "A = [\n",
    "    [12, 1, 2],\n",
    "    [4, 0, 4],\n",
    "    [-2, 0, 0]\n",
    "]\n",
    "\n",
    "printM(B)\n",
    "printM(A)\n",
    "printM(np.matmul(B, A))"
   ]
  }
 ],
 "metadata": {
  "kernelspec": {
   "display_name": "Python 3",
   "language": "python",
   "name": "python3"
  },
  "language_info": {
   "codemirror_mode": {
    "name": "ipython",
    "version": 3
   },
   "file_extension": ".py",
   "mimetype": "text/x-python",
   "name": "python",
   "nbconvert_exporter": "python",
   "pygments_lexer": "ipython3",
   "version": "3.6.5"
  }
 },
 "nbformat": 4,
 "nbformat_minor": 2
}
