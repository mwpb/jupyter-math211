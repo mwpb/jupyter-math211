{
 "cells": [
  {
   "cell_type": "code",
   "execution_count": 6,
   "metadata": {},
   "outputs": [
    {
     "name": "stdout",
     "output_type": "stream",
     "text": [
      "The autoreload extension is already loaded. To reload it, use:\n",
      "  %reload_ext autoreload\n",
      "Populating the interactive namespace from numpy and matplotlib\n"
     ]
    }
   ],
   "source": [
    "import os\n",
    "import sys\n",
    "module_path = os.path.abspath(os.path.join('..'))\n",
    "if module_path not in sys.path:\n",
    "    sys.path.append(module_path)\n",
    "from pythonUtils.plottingUtils import plot2DSystem, printM, plotColumns\n",
    "import numpy as np\n",
    "\n",
    "%config InlineBackend.figure_format = 'png'\n",
    "%matplotlib inline\n",
    "\n",
    "%load_ext autoreload\n",
    "%autoreload 2\n",
    "%pylab inline\n",
    "pylab.rcParams['figure.figsize'] = (6,6)"
   ]
  },
  {
   "cell_type": "code",
   "execution_count": 8,
   "metadata": {},
   "outputs": [
    {
     "data": {
      "image/png": "[encoded data removed]",
      "text/plain": [
       "<Figure size 432x432 with 1 Axes>"
      ]
     },
     "metadata": {},
     "output_type": "display_data"
    },
    {
     "data": {
      "text/plain": [
       "1.0"
      ]
     },
     "metadata": {},
     "output_type": "display_data"
    }
   ],
   "source": [
    "A = [\n",
    "    [1, 0],\n",
    "    [0, 1]\n",
    "]\n",
    "\n",
    "plotColumns(A)\n",
    "display(np.linalg.det(A))\n"
   ]
  },
  {
   "cell_type": "code",
   "execution_count": 121,
   "metadata": {},
   "outputs": [],
   "source": [
    "A = [\n",
    "    [0, 1],\n",
    "    [1, 0]\n",
    "]\n",
    "\n",
    "\n",
    "\n",
    "\n",
    "A = [\n",
    "    [0, 1],\n",
    "    [1, 0]\n",
    "]\n",
    "\n",
    "\n",
    "\n",
    "\n",
    "\n",
    "\n",
    "A = [\n",
    "    [0, 1],\n",
    "    [1, 0]\n",
    "]\n",
    "\n",
    "\n",
    "\n",
    "\n",
    "\n",
    "\n",
    "A = [\n",
    "    [0, 1],\n",
    "    [1, 0]\n",
    "]\n",
    "\n",
    "\n",
    "\n",
    "\n",
    "\n",
    "A = [\n",
    "    [0, 1],\n",
    "    [1, 0]\n",
    "]\n",
    "\n",
    "\n",
    "\n",
    "\n",
    "\n",
    "A = [\n",
    "    [0, 1],\n",
    "    [1, 0]\n",
    "]\n",
    "\n",
    "\n",
    "\n",
    "\n",
    "\n",
    "A = [\n",
    "    [0, 1],\n",
    "    [1, 0]\n",
    "]\n",
    "\n",
    "\n",
    "\n",
    "\n",
    "\n",
    "\n",
    "\n",
    "\n",
    "\n",
    "\n"
   ]
  }
 ],
 "metadata": {
  "kernelspec": {
   "display_name": "Python 3",
   "language": "python",
   "name": "python3"
  },
  "language_info": {
   "codemirror_mode": {
    "name": "ipython",
    "version": 3
   },
   "file_extension": ".py",
   "mimetype": "text/x-python",
   "name": "python",
   "nbconvert_exporter": "python",
   "pygments_lexer": "ipython3",
   "version": "3.6.5"
  }
 },
 "nbformat": 4,
 "nbformat_minor": 2
}
