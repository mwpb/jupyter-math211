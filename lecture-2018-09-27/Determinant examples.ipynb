{
 "cells": [
  {
   "cell_type": "code",
   "execution_count": 1,
   "metadata": {},
   "outputs": [],
   "source": [
    "import numpy as np"
   ]
  },
  {
   "cell_type": "code",
   "execution_count": 2,
   "metadata": {},
   "outputs": [
    {
     "name": "stdout",
     "output_type": "stream",
     "text": [
      "45.0\n"
     ]
    }
   ],
   "source": [
    "A = [\n",
    "    [1, 2, 3],\n",
    "    [0, 5, 6],\n",
    "    [0, 0, 9]\n",
    "]\n",
    "\n",
    "print(round(np.linalg.det(A)))"
   ]
  },
  {
   "cell_type": "code",
   "execution_count": 7,
   "metadata": {},
   "outputs": [
    {
     "name": "stdout",
     "output_type": "stream",
     "text": [
      "4.0\n"
     ]
    }
   ],
   "source": [
    "A = [\n",
    "    [-3, 5, -6],\n",
    "    [1, -1, 3],\n",
    "    [2, -4, 1]\n",
    "]\n",
    "\n",
    "print(round(np.linalg.det(A)))"
   ]
  },
  {
   "cell_type": "code",
   "execution_count": 9,
   "metadata": {},
   "outputs": [
    {
     "name": "stdout",
     "output_type": "stream",
     "text": [
      "84.0\n"
     ]
    }
   ],
   "source": [
    "A = [\n",
    "    [3, 1, 2, 4],\n",
    "    [-1, -3, 8, 0],\n",
    "    [1, -1, 5, 5],\n",
    "    [1, 1, 2, -1]\n",
    "]\n",
    "\n",
    "print(round(np.linalg.det(A)))"
   ]
  },
  {
   "cell_type": "code",
   "execution_count": 5,
   "metadata": {},
   "outputs": [
    {
     "name": "stdout",
     "output_type": "stream",
     "text": [
      "-33.0\n"
     ]
    }
   ],
   "source": [
    "A = [\n",
    "    [1, 1, 3],\n",
    "    [2, 4, 1],\n",
    "    [5, 2, 6]\n",
    "]\n",
    "\n",
    "print(round(np.linalg.det(A)))"
   ]
  },
  {
   "cell_type": "code",
   "execution_count": 6,
   "metadata": {},
   "outputs": [
    {
     "name": "stdout",
     "output_type": "stream",
     "text": [
      "11.0\n"
     ]
    }
   ],
   "source": [
    "A = [\n",
    "    [0, 1, -2, 1],\n",
    "    [5, 0, 0, 7],\n",
    "    [0, 1, -1, 0],\n",
    "    [3, 0, 0, 2]\n",
    "]\n",
    "\n",
    "print(round(np.linalg.det(A)))"
   ]
  },
  {
   "cell_type": "code",
   "execution_count": 7,
   "metadata": {},
   "outputs": [
    {
     "name": "stdout",
     "output_type": "stream",
     "text": [
      "0.0\n"
     ]
    }
   ],
   "source": [
    "A = [\n",
    "    [-8, 1, 0, -4],\n",
    "    [5, 7, 0, -7],\n",
    "    [12, -3, 0, 8],\n",
    "    [-3, 11, 0, 2]\n",
    "]\n",
    "\n",
    "print(round(np.linalg.det(A)))"
   ]
  }
 ],
 "metadata": {
  "kernelspec": {
   "display_name": "Python 3",
   "language": "python",
   "name": "python3"
  },
  "language_info": {
   "codemirror_mode": {
    "name": "ipython",
    "version": 3
   },
   "file_extension": ".py",
   "mimetype": "text/x-python",
   "name": "python",
   "nbconvert_exporter": "python",
   "pygments_lexer": "ipython3",
   "version": "3.6.5"
  }
 },
 "nbformat": 4,
 "nbformat_minor": 2
}
