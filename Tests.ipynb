{
 "cells": [
  {
   "cell_type": "code",
   "execution_count": 23,
   "metadata": {},
   "outputs": [],
   "source": [
    "from elementaryOperations import swapRows, addMultiple, scalarMultiply\n",
    "from plottingUtils import printM\n",
    "from elimination import rref"
   ]
  },
  {
   "cell_type": "code",
   "execution_count": 61,
   "metadata": {},
   "outputs": [],
   "source": [
    "def eliminationTests():\n",
    "    '''\n",
    "    >>> A = [[0,2, 1,1],[3,4, 5,0],[1, 2, 3,0]]\n",
    "    >>> rref(A)\n",
    "    >>> A == [[1.0, 0.0, 0.0, -0.3333333333333333], [0.0, 1.0, 0.0, 0.6666666666666666], [0.0, 0.0, 1.0, -0.3333333333333333]]\n",
    "    True\n",
    "    >>> A = [[1, 5, 7],[-2, -7, -5]]\n",
    "    >>> rref(A)\n",
    "    >>> A == [[ 1.,  0., -8.], [ 0.,  1.,  3.]]\n",
    "    True\n",
    "    >>> A = A = [[0, 2, 1, -8],[1, -2, -3, 0],[-1, 1, 2, 3]]\n",
    "    >>> rref(A)\n",
    "    >>> A == [[1.0, 0.0, 0.0, -4.0], [0.0, 1.0, 0.0, -5.0], [-0.0, -0.0, 1.0, 2.0]]\n",
    "    True\n",
    "    >>> A = A = A = [[1, -2, -6, 12],[2, 4, 12, -17],[1, -4, -12, 22]]\n",
    "    >>> rref(A)\n",
    "    >>> A == [[1.0, 0.0, 0.0, 1.3888888888888864], [0.0, 1.0, 3.0, -4.2361111111111045], [0.0, 0.0, 0.0, 0.16666666666666785]]\n",
    "    True\n",
    "    '''"
   ]
  },
  {
   "cell_type": "code",
   "execution_count": 62,
   "metadata": {},
   "outputs": [
    {
     "data": {
      "text/plain": [
       "TestResults(failed=0, attempted=16)"
      ]
     },
     "execution_count": 62,
     "metadata": {},
     "output_type": "execute_result"
    }
   ],
   "source": [
    "import doctest\n",
    "doctest.testmod()"
   ]
  }
 ],
 "metadata": {
  "kernelspec": {
   "display_name": "Python 3",
   "language": "python",
   "name": "python3"
  },
  "language_info": {
   "codemirror_mode": {
    "name": "ipython",
    "version": 3
   },
   "file_extension": ".py",
   "mimetype": "text/x-python",
   "name": "python",
   "nbconvert_exporter": "python",
   "pygments_lexer": "ipython3",
   "version": "3.6.4"
  }
 },
 "nbformat": 4,
 "nbformat_minor": 2
}
