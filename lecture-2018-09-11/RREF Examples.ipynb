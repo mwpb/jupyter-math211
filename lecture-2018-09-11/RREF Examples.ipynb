{
 "cells": [
  {
   "cell_type": "code",
   "execution_count": 3,
   "metadata": {},
   "outputs": [
    {
     "data": {
      "text/html": [
       "<style>div.output_latex {overflow:hidden;} .MathJax { font-size: 7em !important; }</style>"
      ],
      "text/plain": [
       "<IPython.core.display.HTML object>"
      ]
     },
     "execution_count": 3,
     "metadata": {},
     "output_type": "execute_result"
    }
   ],
   "source": [
    "import os\n",
    "import sys\n",
    "module_path = os.path.abspath(os.path.join('..'))\n",
    "if module_path not in sys.path:\n",
    "    sys.path.append(module_path)\n",
    "\n",
    "from pythonUtils.elimination import rref\n",
    "from pythonUtils.plottingUtils import printM, plot2DSystem\n",
    "\n",
    "%config InlineBackend.figure_format = 'svg'\n",
    "%matplotlib inline\n",
    "%precision 3\n",
    "\n",
    "%load_ext autoreload\n",
    "%autoreload 2\n",
    "\n",
    "from IPython.display import HTML\n",
    "HTML(\"\"\"<style>div.output_latex {overflow:hidden;} .MathJax { font-size: 7em !important; }</style>\"\"\")"
   ]
  },
  {
   "cell_type": "markdown",
   "metadata": {},
   "source": [
    "## Infinitely many solutions"
   ]
  },
  {
   "cell_type": "code",
   "execution_count": 4,
   "metadata": {
    "scrolled": false
   },
   "outputs": [
    {
     "data": {
      "text/latex": [
       "${\\left[\\begin{matrix}0 & 0 & 0 & -2 & -8 & 4\\\\-3 & 6 & -4 & -9 & 3 & -1\\\\-1 & 2 & -2 & -4 & -3 & 3\\\\1 & -2 & 1 & 3 & -1 & 1\\end{matrix}\\right]}$"
      ],
      "text/plain": [
       "<IPython.core.display.Latex object>"
      ]
     },
     "metadata": {},
     "output_type": "display_data"
    },
    {
     "name": "stdout",
     "output_type": "stream",
     "text": [
      "\n",
      "\n"
     ]
    },
    {
     "data": {
      "text/latex": [
       "${\\left[\\begin{matrix}1 & -2 & 1.3333 & 3 & -1 & 0.3333\\\\0 & 0 & 0 & -2 & -8 & 4\\\\-1 & 2 & -2 & -4 & -3 & 3\\\\1 & -2 & 1 & 3 & -1 & 1\\end{matrix}\\right]}$"
      ],
      "text/plain": [
       "<IPython.core.display.Latex object>"
      ]
     },
     "metadata": {},
     "output_type": "display_data"
    },
    {
     "name": "stdout",
     "output_type": "stream",
     "text": [
      "\n",
      "\n"
     ]
    },
    {
     "data": {
      "text/latex": [
       "${\\left[\\begin{matrix}1 & -2 & 1.3333 & 3 & -1 & 0.3333\\\\0 & 0 & 0 & -2 & -8 & 4\\\\0 & 0 & -0.6667 & -1 & -4 & 3.3333\\\\0 & 0 & -0.3333 & 0 & 0 & 0.6667\\end{matrix}\\right]}$"
      ],
      "text/plain": [
       "<IPython.core.display.Latex object>"
      ]
     },
     "metadata": {},
     "output_type": "display_data"
    },
    {
     "name": "stdout",
     "output_type": "stream",
     "text": [
      "\n",
      "\n"
     ]
    },
    {
     "data": {
      "text/latex": [
       "${\\left[\\begin{matrix}1 & -2 & 1.3333 & 3 & -1 & 0.3333\\\\0 & 0 & 1 & 1.5 & 6 & -5\\\\0 & 0 & 0 & -2 & -8 & 4\\\\0 & 0 & -0.3333 & 0 & 0 & 0.6667\\end{matrix}\\right]}$"
      ],
      "text/plain": [
       "<IPython.core.display.Latex object>"
      ]
     },
     "metadata": {},
     "output_type": "display_data"
    },
    {
     "name": "stdout",
     "output_type": "stream",
     "text": [
      "\n",
      "\n"
     ]
    },
    {
     "data": {
      "text/latex": [
       "${\\left[\\begin{matrix}1 & -2 & 1.3333 & 3 & -1 & 0.3333\\\\0 & 0 & 1 & 1.5 & 6 & -5\\\\0 & 0 & 0 & -2 & -8 & 4\\\\0 & 0 & 0 & 0.5 & 2 & -1\\end{matrix}\\right]}$"
      ],
      "text/plain": [
       "<IPython.core.display.Latex object>"
      ]
     },
     "metadata": {},
     "output_type": "display_data"
    },
    {
     "name": "stdout",
     "output_type": "stream",
     "text": [
      "\n",
      "\n"
     ]
    },
    {
     "data": {
      "text/latex": [
       "${\\left[\\begin{matrix}1 & -2 & 1.3333 & 3 & -1 & 0.3333\\\\0 & 0 & 1 & 1.5 & 6 & -5\\\\0 & 0 & 0 & 1 & 4 & -2\\\\0 & 0 & 0 & 0.5 & 2 & -1\\end{matrix}\\right]}$"
      ],
      "text/plain": [
       "<IPython.core.display.Latex object>"
      ]
     },
     "metadata": {},
     "output_type": "display_data"
    },
    {
     "name": "stdout",
     "output_type": "stream",
     "text": [
      "\n",
      "\n"
     ]
    },
    {
     "data": {
      "text/latex": [
       "${\\left[\\begin{matrix}1 & -2 & 1.3333 & 3 & -1 & 0.3333\\\\0 & 0 & 1 & 1.5 & 6 & -5\\\\0 & 0 & 0 & 1 & 4 & -2\\\\0 & 0 & 0 & 0 & 0 & 0\\end{matrix}\\right]}$"
      ],
      "text/plain": [
       "<IPython.core.display.Latex object>"
      ]
     },
     "metadata": {},
     "output_type": "display_data"
    },
    {
     "name": "stdout",
     "output_type": "stream",
     "text": [
      "\n",
      "\n"
     ]
    },
    {
     "data": {
      "text/latex": [
       "${\\left[\\begin{matrix}1 & -2 & 0 & 1 & -9 & 7\\\\0 & 0 & 1 & 1.5 & 6 & -5\\\\0 & 0 & 0 & 1 & 4 & -2\\\\0 & 0 & 0 & 0 & 0 & 0\\end{matrix}\\right]}$"
      ],
      "text/plain": [
       "<IPython.core.display.Latex object>"
      ]
     },
     "metadata": {},
     "output_type": "display_data"
    },
    {
     "name": "stdout",
     "output_type": "stream",
     "text": [
      "\n",
      "\n"
     ]
    },
    {
     "data": {
      "text/latex": [
       "${\\left[\\begin{matrix}1 & -2 & 0 & 0 & -13 & 9\\\\0 & 0 & 1 & 0 & 0 & -2\\\\0 & 0 & 0 & 1 & 4 & -2\\\\0 & 0 & 0 & 0 & 0 & 0\\end{matrix}\\right]}$"
      ],
      "text/plain": [
       "<IPython.core.display.Latex object>"
      ]
     },
     "metadata": {},
     "output_type": "display_data"
    },
    {
     "name": "stdout",
     "output_type": "stream",
     "text": [
      "\n",
      "\n"
     ]
    }
   ],
   "source": [
    "A = [\n",
    "    [0, 0, 0, -2, -8, 4],\n",
    "    [-3, 6, -4, -9, 3, -1],\n",
    "    [-1, 2, -2, -4, -3, 3],\n",
    "    [1, -2, 1, 3, -1, 1]\n",
    "]\n",
    "\n",
    "steps = rref(A)\n",
    "for i in steps:\n",
    "    (printM(i))"
   ]
  },
  {
   "cell_type": "code",
   "execution_count": 22,
   "metadata": {},
   "outputs": [
    {
     "data": {
      "text/latex": [
       "${\\left[\\begin{matrix}1 & 3 & 4 & 9 & 2\\\\5 & 6 & 7 & 8 & 5\\\\6 & 18 & 24 & 54 & 12\\\\1 & 1 & 1 & 1 & 1\\end{matrix}\\right]}$"
      ],
      "text/plain": [
       "<IPython.core.display.Latex object>"
      ]
     },
     "metadata": {},
     "output_type": "display_data"
    },
    {
     "name": "stdout",
     "output_type": "stream",
     "text": [
      "\n",
      "\n"
     ]
    },
    {
     "data": {
      "text/latex": [
       "${\\left[\\begin{matrix}1 & 3 & 4 & 9 & 2\\\\0 & -9 & -13 & -37 & -5\\\\0 & 0 & 0 & 0 & 0\\\\0 & -2 & -3 & -8 & -1\\end{matrix}\\right]}$"
      ],
      "text/plain": [
       "<IPython.core.display.Latex object>"
      ]
     },
     "metadata": {},
     "output_type": "display_data"
    },
    {
     "name": "stdout",
     "output_type": "stream",
     "text": [
      "\n",
      "\n"
     ]
    },
    {
     "data": {
      "text/latex": [
       "${\\left[\\begin{matrix}1 & 3 & 4 & 9 & 2\\\\0 & 1 & 1.4444 & 4.1111 & 0.5556\\\\0 & 0 & 0 & 0 & 0\\\\0 & -2 & -3 & -8 & -1\\end{matrix}\\right]}$"
      ],
      "text/plain": [
       "<IPython.core.display.Latex object>"
      ]
     },
     "metadata": {},
     "output_type": "display_data"
    },
    {
     "name": "stdout",
     "output_type": "stream",
     "text": [
      "\n",
      "\n"
     ]
    },
    {
     "data": {
      "text/latex": [
       "${\\left[\\begin{matrix}1 & 3 & 4 & 9 & 2\\\\0 & 1 & 1.4444 & 4.1111 & 0.5556\\\\0 & 0 & 0 & 0 & 0\\\\0 & 0 & -0.1111 & 0.2222 & 0.1111\\end{matrix}\\right]}$"
      ],
      "text/plain": [
       "<IPython.core.display.Latex object>"
      ]
     },
     "metadata": {},
     "output_type": "display_data"
    },
    {
     "name": "stdout",
     "output_type": "stream",
     "text": [
      "\n",
      "\n"
     ]
    },
    {
     "data": {
      "text/latex": [
       "${\\left[\\begin{matrix}1 & 3 & 4 & 9 & 2\\\\0 & 1 & 1.4444 & 4.1111 & 0.5556\\\\0 & 0 & 1 & -2 & -1\\\\0 & 0 & 0 & 0 & 0\\end{matrix}\\right]}$"
      ],
      "text/plain": [
       "<IPython.core.display.Latex object>"
      ]
     },
     "metadata": {},
     "output_type": "display_data"
    },
    {
     "name": "stdout",
     "output_type": "stream",
     "text": [
      "\n",
      "\n"
     ]
    },
    {
     "data": {
      "text/latex": [
       "${\\left[\\begin{matrix}1 & 3 & 4 & 9 & 2\\\\0 & 1 & 1.4444 & 4.1111 & 0.5556\\\\0 & 0 & 1 & -2 & -1\\\\0 & 0 & 0 & 0 & 0\\end{matrix}\\right]}$"
      ],
      "text/plain": [
       "<IPython.core.display.Latex object>"
      ]
     },
     "metadata": {},
     "output_type": "display_data"
    },
    {
     "name": "stdout",
     "output_type": "stream",
     "text": [
      "\n",
      "\n"
     ]
    },
    {
     "data": {
      "text/latex": [
       "${\\left[\\begin{matrix}1 & 0 & -0.3333 & -3.3333 & 0.3333\\\\0 & 1 & 1.4444 & 4.1111 & 0.5556\\\\0 & 0 & 1 & -2 & -1\\\\0 & 0 & 0 & 0 & 0\\end{matrix}\\right]}$"
      ],
      "text/plain": [
       "<IPython.core.display.Latex object>"
      ]
     },
     "metadata": {},
     "output_type": "display_data"
    },
    {
     "name": "stdout",
     "output_type": "stream",
     "text": [
      "\n",
      "\n"
     ]
    },
    {
     "data": {
      "text/latex": [
       "${\\left[\\begin{matrix}1 & 0 & 0 & -4 & 0\\\\0 & 1 & 0 & 7 & 2\\\\0 & 0 & 1 & -2 & -1\\\\0 & 0 & 0 & 0 & 0\\end{matrix}\\right]}$"
      ],
      "text/plain": [
       "<IPython.core.display.Latex object>"
      ]
     },
     "metadata": {},
     "output_type": "display_data"
    },
    {
     "name": "stdout",
     "output_type": "stream",
     "text": [
      "\n",
      "\n"
     ]
    }
   ],
   "source": [
    "A = [\n",
    "    [1, 3, 4, 9, 2],\n",
    "    [5, 6, 7, 8, 5],\n",
    "    [6, 18 , 24, 54, 12],\n",
    "    [1, 1, 1, 1, 1]\n",
    "]\n",
    "\n",
    "steps = rref(A)\n",
    "for i in steps:\n",
    "    (printM(i))"
   ]
  },
  {
   "cell_type": "markdown",
   "metadata": {},
   "source": [
    "## Inconsistent"
   ]
  },
  {
   "cell_type": "code",
   "execution_count": 24,
   "metadata": {
    "scrolled": false
   },
   "outputs": [
    {
     "data": {
      "text/latex": [
       "${\\left[\\begin{matrix}1 & 3 & 1 & 2 & 1\\\\5 & 6 & 7 & 8 & 5\\\\6 & 9 & 8 & 10 & 10\\\\1 & 1 & 1 & 1 & 1\\end{matrix}\\right]}$"
      ],
      "text/plain": [
       "<IPython.core.display.Latex object>"
      ]
     },
     "metadata": {},
     "output_type": "display_data"
    },
    {
     "name": "stdout",
     "output_type": "stream",
     "text": [
      "\n",
      "\n"
     ]
    },
    {
     "data": {
      "text/latex": [
       "${\\left[\\begin{matrix}1 & 3 & 1 & 2 & 1\\\\0 & -9 & 2 & -2 & 0\\\\0 & -9 & 2 & -2 & 4\\\\0 & -2 & 0 & -1 & 0\\end{matrix}\\right]}$"
      ],
      "text/plain": [
       "<IPython.core.display.Latex object>"
      ]
     },
     "metadata": {},
     "output_type": "display_data"
    },
    {
     "name": "stdout",
     "output_type": "stream",
     "text": [
      "\n",
      "\n"
     ]
    },
    {
     "data": {
      "text/latex": [
       "${\\left[\\begin{matrix}1 & 3 & 1 & 2 & 1\\\\0 & 1 & -0.2222 & 0.2222 & 0\\\\0 & -9 & 2 & -2 & 4\\\\0 & -2 & 0 & -1 & 0\\end{matrix}\\right]}$"
      ],
      "text/plain": [
       "<IPython.core.display.Latex object>"
      ]
     },
     "metadata": {},
     "output_type": "display_data"
    },
    {
     "name": "stdout",
     "output_type": "stream",
     "text": [
      "\n",
      "\n"
     ]
    },
    {
     "data": {
      "text/latex": [
       "${\\left[\\begin{matrix}1 & 3 & 1 & 2 & 1\\\\0 & 1 & -0.2222 & 0.2222 & 0\\\\0 & 0 & 0 & 0 & 4\\\\0 & 0 & -0.4444 & -0.5556 & 0\\end{matrix}\\right]}$"
      ],
      "text/plain": [
       "<IPython.core.display.Latex object>"
      ]
     },
     "metadata": {},
     "output_type": "display_data"
    },
    {
     "name": "stdout",
     "output_type": "stream",
     "text": [
      "\n",
      "\n"
     ]
    },
    {
     "data": {
      "text/latex": [
       "${\\left[\\begin{matrix}1 & 3 & 1 & 2 & 1\\\\0 & 1 & -0.2222 & 0.2222 & 0\\\\0 & 0 & 1 & 1.25 & 0\\\\0 & 0 & 0 & 0 & 4\\end{matrix}\\right]}$"
      ],
      "text/plain": [
       "<IPython.core.display.Latex object>"
      ]
     },
     "metadata": {},
     "output_type": "display_data"
    },
    {
     "name": "stdout",
     "output_type": "stream",
     "text": [
      "\n",
      "\n"
     ]
    },
    {
     "data": {
      "text/latex": [
       "${\\left[\\begin{matrix}1 & 3 & 1 & 2 & 1\\\\0 & 1 & -0.2222 & 0.2222 & 0\\\\0 & 0 & 1 & 1.25 & 0\\\\0 & 0 & 0 & 0 & 4\\end{matrix}\\right]}$"
      ],
      "text/plain": [
       "<IPython.core.display.Latex object>"
      ]
     },
     "metadata": {},
     "output_type": "display_data"
    },
    {
     "name": "stdout",
     "output_type": "stream",
     "text": [
      "\n",
      "\n"
     ]
    },
    {
     "data": {
      "text/latex": [
       "${\\left[\\begin{matrix}1 & 0 & 1.6667 & 1.3333 & 1\\\\0 & 1 & -0.2222 & 0.2222 & 0\\\\0 & 0 & 1 & 1.25 & 0\\\\0 & 0 & 0 & 0 & 4\\end{matrix}\\right]}$"
      ],
      "text/plain": [
       "<IPython.core.display.Latex object>"
      ]
     },
     "metadata": {},
     "output_type": "display_data"
    },
    {
     "name": "stdout",
     "output_type": "stream",
     "text": [
      "\n",
      "\n"
     ]
    },
    {
     "data": {
      "text/latex": [
       "${\\left[\\begin{matrix}1 & 0 & 0 & -0.75 & 1\\\\0 & 1 & 0 & 0.5 & 0\\\\0 & 0 & 1 & 1.25 & 0\\\\0 & 0 & 0 & 0 & 4\\end{matrix}\\right]}$"
      ],
      "text/plain": [
       "<IPython.core.display.Latex object>"
      ]
     },
     "metadata": {},
     "output_type": "display_data"
    },
    {
     "name": "stdout",
     "output_type": "stream",
     "text": [
      "\n",
      "\n"
     ]
    }
   ],
   "source": [
    "A = [\n",
    "    [1, 3, 1, 2, 1],\n",
    "    [5, 6, 7, 8, 5],\n",
    "    [6, 9 , 8, 10, 10],\n",
    "    [1, 1, 1, 1, 1]\n",
    "]\n",
    "\n",
    "steps = rref(A)\n",
    "for i in steps:\n",
    "    (printM(i))"
   ]
  },
  {
   "cell_type": "markdown",
   "metadata": {},
   "source": [
    "## Unique solutions"
   ]
  },
  {
   "cell_type": "code",
   "execution_count": 23,
   "metadata": {},
   "outputs": [
    {
     "data": {
      "text/latex": [
       "${\\left[\\begin{matrix}1 & 2 & 3 & 4 & 1\\\\5 & 6 & 7 & 8 & 5\\\\11 & 10 & 10 & 12 & 6\\\\1 & 1 & 1 & 4 & 1\\end{matrix}\\right]}$"
      ],
      "text/plain": [
       "<IPython.core.display.Latex object>"
      ]
     },
     "metadata": {},
     "output_type": "display_data"
    },
    {
     "name": "stdout",
     "output_type": "stream",
     "text": [
      "\n",
      "\n"
     ]
    },
    {
     "data": {
      "text/latex": [
       "${\\left[\\begin{matrix}1 & 2 & 3 & 4 & 1\\\\0 & -4 & -8 & -12 & 0\\\\0 & -12 & -23 & -32 & -5\\\\0 & -1 & -2 & 0 & 0\\end{matrix}\\right]}$"
      ],
      "text/plain": [
       "<IPython.core.display.Latex object>"
      ]
     },
     "metadata": {},
     "output_type": "display_data"
    },
    {
     "name": "stdout",
     "output_type": "stream",
     "text": [
      "\n",
      "\n"
     ]
    },
    {
     "data": {
      "text/latex": [
       "${\\left[\\begin{matrix}1 & 2 & 3 & 4 & 1\\\\0 & 1 & 2 & 3 & 0\\\\0 & -12 & -23 & -32 & -5\\\\0 & -1 & -2 & 0 & 0\\end{matrix}\\right]}$"
      ],
      "text/plain": [
       "<IPython.core.display.Latex object>"
      ]
     },
     "metadata": {},
     "output_type": "display_data"
    },
    {
     "name": "stdout",
     "output_type": "stream",
     "text": [
      "\n",
      "\n"
     ]
    },
    {
     "data": {
      "text/latex": [
       "${\\left[\\begin{matrix}1 & 2 & 3 & 4 & 1\\\\0 & 1 & 2 & 3 & 0\\\\0 & 0 & 1 & 4 & -5\\\\0 & 0 & 0 & 3 & 0\\end{matrix}\\right]}$"
      ],
      "text/plain": [
       "<IPython.core.display.Latex object>"
      ]
     },
     "metadata": {},
     "output_type": "display_data"
    },
    {
     "name": "stdout",
     "output_type": "stream",
     "text": [
      "\n",
      "\n"
     ]
    },
    {
     "data": {
      "text/latex": [
       "${\\left[\\begin{matrix}1 & 2 & 3 & 4 & 1\\\\0 & 1 & 2 & 3 & 0\\\\0 & 0 & 1 & 4 & -5\\\\0 & 0 & 0 & 3 & 0\\end{matrix}\\right]}$"
      ],
      "text/plain": [
       "<IPython.core.display.Latex object>"
      ]
     },
     "metadata": {},
     "output_type": "display_data"
    },
    {
     "name": "stdout",
     "output_type": "stream",
     "text": [
      "\n",
      "\n"
     ]
    },
    {
     "data": {
      "text/latex": [
       "${\\left[\\begin{matrix}1 & 2 & 3 & 4 & 1\\\\0 & 1 & 2 & 3 & 0\\\\0 & 0 & 1 & 4 & -5\\\\0 & 0 & 0 & 1 & 0\\end{matrix}\\right]}$"
      ],
      "text/plain": [
       "<IPython.core.display.Latex object>"
      ]
     },
     "metadata": {},
     "output_type": "display_data"
    },
    {
     "name": "stdout",
     "output_type": "stream",
     "text": [
      "\n",
      "\n"
     ]
    },
    {
     "data": {
      "text/latex": [
       "${\\left[\\begin{matrix}1 & 2 & 3 & 4 & 1\\\\0 & 1 & 2 & 3 & 0\\\\0 & 0 & 1 & 4 & -5\\\\0 & 0 & 0 & 1 & 0\\end{matrix}\\right]}$"
      ],
      "text/plain": [
       "<IPython.core.display.Latex object>"
      ]
     },
     "metadata": {},
     "output_type": "display_data"
    },
    {
     "name": "stdout",
     "output_type": "stream",
     "text": [
      "\n",
      "\n"
     ]
    },
    {
     "data": {
      "text/latex": [
       "${\\left[\\begin{matrix}1 & 0 & -1 & -2 & 1\\\\0 & 1 & 2 & 3 & 0\\\\0 & 0 & 1 & 4 & -5\\\\0 & 0 & 0 & 1 & 0\\end{matrix}\\right]}$"
      ],
      "text/plain": [
       "<IPython.core.display.Latex object>"
      ]
     },
     "metadata": {},
     "output_type": "display_data"
    },
    {
     "name": "stdout",
     "output_type": "stream",
     "text": [
      "\n",
      "\n"
     ]
    },
    {
     "data": {
      "text/latex": [
       "${\\left[\\begin{matrix}1 & 0 & 0 & 2 & -4\\\\0 & 1 & 0 & -5 & 10\\\\0 & 0 & 1 & 4 & -5\\\\0 & 0 & 0 & 1 & 0\\end{matrix}\\right]}$"
      ],
      "text/plain": [
       "<IPython.core.display.Latex object>"
      ]
     },
     "metadata": {},
     "output_type": "display_data"
    },
    {
     "name": "stdout",
     "output_type": "stream",
     "text": [
      "\n",
      "\n"
     ]
    },
    {
     "data": {
      "text/latex": [
       "${\\left[\\begin{matrix}1 & 0 & 0 & 0 & -4\\\\0 & 1 & 0 & 0 & 10\\\\0 & 0 & 1 & 0 & -5\\\\0 & 0 & 0 & 1 & 0\\end{matrix}\\right]}$"
      ],
      "text/plain": [
       "<IPython.core.display.Latex object>"
      ]
     },
     "metadata": {},
     "output_type": "display_data"
    },
    {
     "name": "stdout",
     "output_type": "stream",
     "text": [
      "\n",
      "\n"
     ]
    }
   ],
   "source": [
    "A = [\n",
    "    [1, 2, 3, 4, 1],\n",
    "    [5, 6, 7, 8, 5],\n",
    "    [11, 10 , 10, 12, 6],\n",
    "    [1, 1, 1, 4, 1]\n",
    "]\n",
    "\n",
    "steps = rref(A)\n",
    "for i in steps:\n",
    "    (printM(i))"
   ]
  }
 ],
 "metadata": {
  "kernelspec": {
   "display_name": "Python 3",
   "language": "python",
   "name": "python3"
  },
  "language_info": {
   "codemirror_mode": {
    "name": "ipython",
    "version": 3
   },
   "file_extension": ".py",
   "mimetype": "text/x-python",
   "name": "python",
   "nbconvert_exporter": "python",
   "pygments_lexer": "ipython3",
   "version": "3.6.5"
  }
 },
 "nbformat": 4,
 "nbformat_minor": 2
}
