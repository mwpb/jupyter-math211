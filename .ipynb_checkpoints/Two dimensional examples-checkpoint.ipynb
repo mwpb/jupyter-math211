{
 "cells": [
  {
   "cell_type": "code",
   "execution_count": 44,
   "metadata": {},
   "outputs": [
    {
     "name": "stdout",
     "output_type": "stream",
     "text": [
      "The autoreload extension is already loaded. To reload it, use:\n",
      "  %reload_ext autoreload\n"
     ]
    }
   ],
   "source": [
    "from elimination import rref\n",
    "from plottingUtils import printM, plot2DSystem\n",
    "\n",
    "%config InlineBackend.figure_format = 'svg'\n",
    "%matplotlib inline\n",
    "\n",
    "%load_ext autoreload\n",
    "%autoreload 2"
   ]
  },
  {
   "cell_type": "code",
   "execution_count": 63,
   "metadata": {},
   "outputs": [
    {
     "name": "stdout",
     "output_type": "stream",
     "text": [
      "[[ 1  2  1]\n",
      " [ 5 10 42]]\n",
      "\n",
      "\n",
      "[[ 1.  2.  1.]\n",
      " [ 5. 10. 42.]]\n",
      "\n",
      "\n",
      "[[ 1.  2.  1.]\n",
      " [ 0.  0. 37.]]\n",
      "\n",
      "\n",
      "[[1. 2. 1.]\n",
      " [0. 0. 1.]]\n",
      "\n",
      "\n",
      "[[1. 2. 1.]\n",
      " [0. 0. 1.]]\n",
      "\n",
      "\n"
     ]
    }
   ],
   "source": [
    "A = [\n",
    "    [1, 2, 1],\n",
    "    [5, 10, 42]\n",
    "]\n",
    "steps = rref(A)\n",
    "for i in steps:\n",
    "    printM(i)"
   ]
  },
  {
   "cell_type": "code",
   "execution_count": 62,
   "metadata": {},
   "outputs": [
    {
     "name": "stdout",
     "output_type": "stream",
     "text": [
      "[[ 3 12 18]\n",
      " [ 4 16 24]]\n",
      "\n",
      "\n",
      "[[ 1.  4.  6.]\n",
      " [ 4. 16. 24.]]\n",
      "\n",
      "\n",
      "[[1. 4. 6.]\n",
      " [0. 0. 0.]]\n",
      "\n",
      "\n"
     ]
    }
   ],
   "source": [
    "A = [\n",
    "    [3, 12, 18],\n",
    "    [4, 16, 24]\n",
    "]\n",
    "steps = rref(A)\n",
    "for i in steps:\n",
    "    printM(i)"
   ]
  }
 ],
 "metadata": {
  "kernelspec": {
   "display_name": "Python 3",
   "language": "python",
   "name": "python3"
  },
  "language_info": {
   "codemirror_mode": {
    "name": "ipython",
    "version": 3
   },
   "file_extension": ".py",
   "mimetype": "text/x-python",
   "name": "python",
   "nbconvert_exporter": "python",
   "pygments_lexer": "ipython3",
   "version": "3.6.5"
  }
 },
 "nbformat": 4,
 "nbformat_minor": 2
}
